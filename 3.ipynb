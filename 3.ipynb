{
 "cells": [
  {
   "cell_type": "code",
   "execution_count": null,
   "metadata": {},
   "outputs": [],
   "source": [
    "import pandas as pd "
   ]
  },
  {
   "cell_type": "code",
   "execution_count": null,
   "metadata": {},
   "outputs": [],
   "source": [
    "df = pd.read_csv(\"3.csv\")"
   ]
  },
  {
   "cell_type": "code",
   "execution_count": null,
   "metadata": {},
   "outputs": [],
   "source": [
    "grouped_df = df.groupby(\"age_group\")"
   ]
  },
  {
   "cell_type": "code",
   "execution_count": null,
   "metadata": {},
   "outputs": [],
   "source": [
    "for group , data in grouped_df:\n",
    "    print(\"age_group:\",group)\n",
    "    print(\"mean:\",data[\"income\"].mean())\n",
    "    print(\"median:\",data[\"income\"].median())\n",
    "    print(\"mode:\",data[\"income\"].mode())\n",
    "    print(\"minimum:\",data[\"income\"].min())\n",
    "    print(\"standard deviation:\",data[\"income\"].std())\n",
    "    print(\"variance:\",data[\"income\"].var())\n",
    "    print(\"skewness:\",data[\"income\"].skew())\n",
    "    print(\"kurtosis:\",data[\"income\"].kurt())\n",
    "    print(\"count:\",data[\"income\"].count())\n",
    "    print(\"unique:\",data[\"income\"].nunique())\n"
   ]
  }
 ],
 "metadata": {
  "kernelspec": {
   "display_name": "base",
   "language": "python",
   "name": "python3"
  },
  "language_info": {
   "codemirror_mode": {
    "name": "ipython",
    "version": 3
   },
   "file_extension": ".py",
   "mimetype": "text/x-python",
   "name": "python",
   "nbconvert_exporter": "python",
   "pygments_lexer": "ipython3",
   "version": "3.10.9"
  },
  "orig_nbformat": 4
 },
 "nbformat": 4,
 "nbformat_minor": 2
}
