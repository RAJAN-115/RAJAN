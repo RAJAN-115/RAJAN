{
 "cells": [
  {
   "cell_type": "code",
   "execution_count": 7,
   "metadata": {},
   "outputs": [],
   "source": [
    "import pandas as pd\n",
    "import numpy as np\n"
   ]
  },
  {
   "cell_type": "code",
   "execution_count": 8,
   "metadata": {},
   "outputs": [],
   "source": [
    "# Create a custom dataset with student ID, attendance, and grades\n",
    "data={'Student ID': [1, 2, 3, 4, 5], \n",
    "                   'Attendance': [90, 80, 70, np.nan, 85], \n",
    "                   'Grades': [75, 85, 90, 95, np.nan]}\n"
   ]
  },
  {
   "cell_type": "code",
   "execution_count": 9,
   "metadata": {},
   "outputs": [],
   "source": [
    "df=pd.DataFrame(data)"
   ]
  },
  {
   "cell_type": "code",
   "execution_count": 10,
   "metadata": {},
   "outputs": [],
   "source": [
    "# Add an inconsistency\n",
    "df.loc[3, 'Attendance'] = 110\n"
   ]
  },
  {
   "cell_type": "code",
   "execution_count": 11,
   "metadata": {},
   "outputs": [],
   "source": [
    "# Deal with missing values and inconsistencies\n",
    "df.dropna(inplace=True)\n",
    "median_attendance = df['Attendance'].median()\n",
    "median_grades = df['Grades'].median()\n",
    "df['Attendance'].replace([110], median_attendance, inplace=True)\n",
    "df['Grades'].replace([np.nan], median_grades, inplace=True)"
   ]
  },
  {
   "cell_type": "code",
   "execution_count": 12,
   "metadata": {},
   "outputs": [],
   "source": [
    "# Deal with outliers\n",
    "z_scores_attendance = (df['Attendance'] - df['Attendance'].mean()) / df['Attendance'].std()\n",
    "z_scores_grades = (df['Grades'] - df['Grades'].mean()) / df['Grades'].std()\n",
    "df = df[(np.abs(z_scores_attendance) < 3) & (np.abs(z_scores_grades) < 3)]"
   ]
  },
  {
   "cell_type": "code",
   "execution_count": 13,
   "metadata": {},
   "outputs": [
    {
     "name": "stdout",
     "output_type": "stream",
     "text": [
      "   Student ID  Attendance  Grades\n",
      "0           1    4.499810    75.0\n",
      "1           2    4.382027    85.0\n",
      "2           3    4.248495    90.0\n",
      "3           4    4.442651    95.0\n"
     ]
    }
   ],
   "source": [
    "# Apply data transformation\n",
    "df['Attendance'] = np.log(df['Attendance'])\n",
    "\n",
    "print(df)"
   ]
  }
 ],
 "metadata": {
  "kernelspec": {
   "display_name": "base",
   "language": "python",
   "name": "python3"
  },
  "language_info": {
   "codemirror_mode": {
    "name": "ipython",
    "version": 3
   },
   "file_extension": ".py",
   "mimetype": "text/x-python",
   "name": "python",
   "nbconvert_exporter": "python",
   "pygments_lexer": "ipython3",
   "version": "3.10.9"
  },
  "orig_nbformat": 4
 },
 "nbformat": 4,
 "nbformat_minor": 2
}
