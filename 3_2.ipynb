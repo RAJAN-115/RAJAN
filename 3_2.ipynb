{
 "cells": [
  {
   "cell_type": "code",
   "execution_count": null,
   "metadata": {},
   "outputs": [],
   "source": [
    "import pandas as pd "
   ]
  },
  {
   "cell_type": "code",
   "execution_count": null,
   "metadata": {},
   "outputs": [],
   "source": [
    "df=pd.read_csv(\"3_2.csv\")"
   ]
  },
  {
   "cell_type": "code",
   "execution_count": null,
   "metadata": {},
   "outputs": [],
   "source": [
    "grouped_df = df.groupby(\"Species\")"
   ]
  },
  {
   "cell_type": "code",
   "execution_count": null,
   "metadata": {},
   "outputs": [],
   "source": [
    "# Calculate the summary statistics\n",
    "for group, data in grouped_df:\n",
    "    print(\"Species:\", group)\n",
    "    print(\"Mean:\", data[\"SepalLengthCm\"].mean())\n",
    "    print(\"Median:\", data[\"SepalLengthCm\"].median())\n",
    "    print(\"Minimum:\", data[\"SepalLengthCm\"].min())\n",
    "    print(\"Maximum:\", data[\"SepalLengthCm\"].max())\n",
    "    print(\"Standard deviation:\", data[\"SepalLengthCm\"].std())"
   ]
  }
 ],
 "metadata": {
  "kernelspec": {
   "display_name": "Python 3",
   "language": "python",
   "name": "python3"
  },
  "language_info": {
   "codemirror_mode": {
    "name": "ipython",
    "version": 3
   },
   "file_extension": ".py",
   "mimetype": "text/x-python",
   "name": "python",
   "nbconvert_exporter": "python",
   "pygments_lexer": "ipython3",
   "version": "3.10.9"
  },
  "orig_nbformat": 4
 },
 "nbformat": 4,
 "nbformat_minor": 2
}
